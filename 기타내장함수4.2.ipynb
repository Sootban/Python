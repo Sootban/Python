{
 "cells": [
  {
   "cell_type": "code",
   "execution_count": 2,
   "metadata": {},
   "outputs": [
    {
     "data": {
      "text/plain": [
       "8"
      ]
     },
     "execution_count": 2,
     "metadata": {},
     "output_type": "execute_result"
    }
   ],
   "source": [
    "#5. lambda inputObject : returnObject : 람다는 함수를 한 줄로 만들 때 사용한다.\n",
    "# 함수가 들어갈 수 있는 어떤 자리에도 들어갈 수 있으며 주로 간결한 코드를 처리할 때 사용한다.\n",
    "add = lambda x, y : x + y\n",
    "mul = lambda x, y : x * y\n",
    "add(3, 5)"
   ]
  },
  {
   "cell_type": "code",
   "execution_count": 3,
   "metadata": {},
   "outputs": [
    {
     "data": {
      "text/plain": [
       "8"
      ]
     },
     "execution_count": 3,
     "metadata": {},
     "output_type": "execute_result"
    }
   ],
   "source": [
    "listLambda  =  [lambda x, y : x + y, lambda x, y : x * y]\n",
    "listLambda[0](3, 5)"
   ]
  },
  {
   "cell_type": "code",
   "execution_count": 4,
   "metadata": {},
   "outputs": [
    {
     "data": {
      "text/plain": [
       "4"
      ]
     },
     "execution_count": 4,
     "metadata": {},
     "output_type": "execute_result"
    }
   ],
   "source": [
    "#6. len(x) : x의 길이를 리턴한다. 여기서 x의 길이는 마지막 인덱스 값의 +1이다.\n",
    "#아래 예제에서 listx의 마지막 값인 400의 인덱스 값은 3이고 4로 출력이 된다.\n",
    "listx = [100, 200, 300, 400]\n",
    "len(listx)"
   ]
  },
  {
   "cell_type": "code",
   "execution_count": 5,
   "metadata": {},
   "outputs": [
    {
     "data": {
      "text/plain": [
       "[1100, 2200, 3300, 4400]"
      ]
     },
     "execution_count": 5,
     "metadata": {},
     "output_type": "execute_result"
    }
   ],
   "source": [
    "#7. map(function, object) : Object의 각 요소에 대해 function한 값을 리턴하는 함수이다.\n",
    "#여기서 map함수만 사용하면 sumxy는 map함수의 주소값만 가지게 된다.\n",
    "#따라서 list함수를 이용하여 형변환을 해주어야 원하는 값을 볼 수 있다.\n",
    "add = lambda x, y : x + y\n",
    "listx = [100, 200, 300, 400]\n",
    "listy = [1000, 2000, 3000, 4000]\n",
    "sumxy = list(map(add, listx, listy))\n",
    "sumxy"
   ]
  },
  {
   "cell_type": "code",
   "execution_count": 6,
   "metadata": {},
   "outputs": [
    {
     "data": {
      "text/plain": [
       "[(1, 10), (2, 20), (3, 30), (4, 40)]"
      ]
     },
     "execution_count": 6,
     "metadata": {},
     "output_type": "execute_result"
    }
   ],
   "source": [
    "#8. zip(x, y, z ...) : 동일한 여러 객체들을 묶는다.\n",
    "list(zip([1, 2, 3, 4], [10, 20, 30, 40]))"
   ]
  },
  {
   "cell_type": "code",
   "execution_count": 7,
   "metadata": {},
   "outputs": [
    {
     "data": {
      "text/plain": [
       "[(1, 10, 100), (2, 20, 200), (3, 30, 300)]"
      ]
     },
     "execution_count": 7,
     "metadata": {},
     "output_type": "execute_result"
    }
   ],
   "source": [
    "list(zip([1, 2, 3], [10, 20, 30], [100, 200, 300]))"
   ]
  },
  {
   "cell_type": "code",
   "execution_count": 8,
   "metadata": {},
   "outputs": [
    {
     "data": {
      "text/plain": [
       "[('A', '9'), ('B', '8'), ('C', '7'), ('D', '6')]"
      ]
     },
     "execution_count": 8,
     "metadata": {},
     "output_type": "execute_result"
    }
   ],
   "source": [
    "list(zip('ABCD', '9876'))"
   ]
  }
 ],
 "metadata": {
  "kernelspec": {
   "display_name": "Python 3",
   "language": "python",
   "name": "python3"
  },
  "language_info": {
   "codemirror_mode": {
    "name": "ipython",
    "version": 3
   },
   "file_extension": ".py",
   "mimetype": "text/x-python",
   "name": "python",
   "nbconvert_exporter": "python",
   "pygments_lexer": "ipython3",
   "version": "3.10.11"
  },
  "orig_nbformat": 4
 },
 "nbformat": 4,
 "nbformat_minor": 2
}
