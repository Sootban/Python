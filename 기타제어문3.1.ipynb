{
 "cells": [
  {
   "cell_type": "code",
   "execution_count": null,
   "metadata": {},
   "outputs": [],
   "source": [
    "#Tutorial 3.1\n",
    "'''\n",
    "with\n",
    "\n",
    "<code>\n",
    "with open(\"file.txt\", 'w') as f:\n",
    "  f.write(\"hello, Python\")\n",
    "\n",
    "파이썬에서 파일을 입, 출력을 하려면 open() -> 쓰기 or 읽기 -> close() \n",
    "3단계를 거쳐야 하는데 with문을 이용하면 파일이 자동으로 닫혀(close) \n",
    "코드가 좀 더 간결해지고, 예외 처리도 더 간단히 할 수 있다.\n",
    "\n",
    "예제 코드를 살펴보면 'file.txt'파일을 열어 'w(write)' 쓰기 모드를 사용\n",
    "한다. 그리고 파일에 \"hello, python\"이라고 입력될 수 있게 write를 해준다. \n",
    "파일을 열었으니(open) 반드시 닫아줘야 하지만(close) with 블록을 이용하면 \n",
    "with를 벗어났을 시 자동으로 파일을 닫게 할 수 있다. 결과를 확인해보기 \n",
    "위해 'file.txt'를 열어보면 'hello, python'이라고 쓰여진 것을 확인할 수 \n",
    "있다. 파일 모드에는 r:읽기 모드, w:쓰기 모드, a:추가 모드가 있다.\n",
    "'''"
   ]
  },
  {
   "cell_type": "code",
   "execution_count": 1,
   "metadata": {},
   "outputs": [],
   "source": [
    "with open(\"file.txt\", 'w') as f:\n",
    "  f.write(\"hello, Python\")"
   ]
  },
  {
   "cell_type": "code",
   "execution_count": null,
   "metadata": {},
   "outputs": [],
   "source": [
    "'''\n",
    "<code>\n",
    "with open('ex01.txt', 'r') as f:\n",
    "  for i in f:\n",
    "    print(i, end='')\n",
    "\n",
    "예제 코드를 살펴보면 'ex01.txt' 파일을 열어 'r(read)' 읽기 모드를 사용한다.\n",
    "읽기 모드를 사용하여 'ex01.txt'파일을 읽어 for문을 이용하여 한 줄씩 출력해준다. \n",
    "결과를 확인하면 'ex01'에 있는 내용들을 한 줄 씩 읽어온 것을 확인할 수 있다.\n",
    "\n",
    "<code>\n",
    "with open('ex01.txt', 'r') as f:\n",
    "  with open('ex02.txt', 'w') as g:\n",
    "    for line in f:\n",
    "      g.write(line)\n",
    "\n",
    "예제 코드를 살펴보면 'ex01.txt'파일을 'r(read)' 읽기 모드를 사용하여 열고, \n",
    "'ex02.txt'파일은 'w' 쓰기 모드를 사용한다.\n",
    "\n",
    "'ex01.txt'파일을 읽어 for문을 이용하여 한 줄씩 읽어, 'ex02.txt'에 한 줄씩 \n",
    "써준다. 결과를 확인하면 'ex01'에 있는 내용들이 'ex02.txt'로 복사된 것을 확\n",
    "인할 수 있다.\n",
    "또 한, with문은 위의 예제처럼 중첩을 하여 사용 가능하다. with문을 빠져나와야 \n",
    "할 상황에는 가장 하위의 with문부터 파일을 순차적으로 닫아준다.\n",
    "'''"
   ]
  },
  {
   "cell_type": "code",
   "execution_count": 3,
   "metadata": {},
   "outputs": [
    {
     "name": "stdout",
     "output_type": "stream",
     "text": [
      "1\n",
      "2\n",
      "3\n",
      "4\n",
      "5"
     ]
    }
   ],
   "source": [
    "with open('ex01.txt', 'r') as f:\n",
    "  for i in f:\n",
    "    print(i, end='')"
   ]
  },
  {
   "cell_type": "code",
   "execution_count": 4,
   "metadata": {},
   "outputs": [],
   "source": [
    "with open('ex01.txt', 'r') as f:\n",
    "  with open('ex02.txt', 'w') as g:\n",
    "    for line in f:\n",
    "      g.write(line)"
   ]
  },
  {
   "cell_type": "code",
   "execution_count": null,
   "metadata": {},
   "outputs": [],
   "source": [
    "#Tutorial 3.2\n",
    "'''\n",
    "try ~ except ~ else\n",
    "\n",
    "<code>[1]\n",
    "try:\n",
    "    num = 2/0\n",
    "except ZeroDivisionError as err:\n",
    "    print(err)\n",
    "else:\n",
    "    print(\"num: %d\"%num)\n",
    "\n",
    "<code>[2]\n",
    "try:\n",
    "    num = 8/2\n",
    "except ZeroDivisionError as err:\n",
    "    print(err)\n",
    "else:\n",
    "    print(\"num: %d\"%num)\n",
    "\n",
    "프로그램이 실행 할 때 예기치 않은 오류 등 문제를 만나게 된다. 예외처리를 \n",
    "하게 되면 그러한 문제나 예외 상황을 처리하는 데 도움을 준다.\n",
    "\n",
    "try, except, else를 이용하면 예외 처리를 할 수 있다. 예외가 발생하면 \n",
    "except절이 실행되고, 예외가 발생하지 않을 경우에는 else절이 실행된다.\n",
    "\n",
    "finally는 에러 유무에 상관없이 항상 마지막에 실행되는 것을 정의할 때 사용한다.\n",
    "\n",
    "예제 코드를 살펴보면 2/0을 한다. 예외 처리를 하지 않는다면 \n",
    "'ZeroDivisionError: divison by zero' 이러한 메시지와 함께 오류가 날 것이다. \n",
    "0으로 나눌 수 없기 때문이다. 하지만 예외처리를 통해서 오류를 처리할 수 있다. \n",
    "오류가 나지않는다면 except블록은 수행되지 않을 것이다.\n",
    "\n",
    "예제를 보면 except ~ as라고 되어 있는 것을 볼 수 있다. 이것은 오류 메시지의 \n",
    "내용까지 알고 싶을 때 사용하는 방법으로, 오류가 나면 division by zero가 출력\n",
    "이 될 것이다. else는 예외가 발생하지 않은 경우에 실행되므로 try에 오류가 나지 \n",
    "않으려면 else블록이 실행될 것이다. <code>[1]은 오류가 났을 때 <code>[2]는 오\n",
    "류가 나지 않았을 때의 코드이다.\n",
    "'''"
   ]
  },
  {
   "cell_type": "code",
   "execution_count": 5,
   "metadata": {},
   "outputs": [
    {
     "name": "stdout",
     "output_type": "stream",
     "text": [
      "division by zero\n"
     ]
    }
   ],
   "source": [
    "try:\n",
    "    num = 2/0\n",
    "except ZeroDivisionError as err:\n",
    "    print(err)\n",
    "else:\n",
    "    print(\"num: %d\"%num)"
   ]
  },
  {
   "cell_type": "code",
   "execution_count": 6,
   "metadata": {},
   "outputs": [
    {
     "name": "stdout",
     "output_type": "stream",
     "text": [
      "num: 4\n"
     ]
    }
   ],
   "source": [
    "try:\n",
    "    num = 8/2\n",
    "except ZeroDivisionError as err:\n",
    "    print(err)\n",
    "else:\n",
    "    print(\"num: %d\"%num)"
   ]
  }
 ],
 "metadata": {
  "kernelspec": {
   "display_name": "Python 3",
   "language": "python",
   "name": "python3"
  },
  "language_info": {
   "codemirror_mode": {
    "name": "ipython",
    "version": 3
   },
   "file_extension": ".py",
   "mimetype": "text/x-python",
   "name": "python",
   "nbconvert_exporter": "python",
   "pygments_lexer": "ipython3",
   "version": "3.10.11"
  },
  "orig_nbformat": 4
 },
 "nbformat": 4,
 "nbformat_minor": 2
}
