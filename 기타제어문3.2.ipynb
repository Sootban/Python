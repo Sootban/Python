{
 "cells": [
  {
   "cell_type": "code",
   "execution_count": null,
   "metadata": {},
   "outputs": [],
   "source": [
    "#Tutorial 3.3\n",
    "'''\n",
    "함수를 switch처럼 사용하기\n",
    "\n",
    "<code>\n",
    "def english(week):\n",
    "  return {1:\"Monday\",\n",
    "    2: \"Tuesday\",\n",
    "    3: \"Wednesday\",\n",
    "    4: \"Thursday\",\n",
    "    5: \"Friday\",\n",
    "    6: \"Saturday\",\n",
    "    7: \"Sunday\",\n",
    "    }.get(week, \"No Data\")\n",
    "\n",
    "print(\"1. 월요일\")\n",
    "print(\"2. 화요일\")\n",
    "print(\"9. 수요일\")\n",
    "print(\"4. 목요일\")\n",
    "print(\"5. 금요일\")\n",
    "print(\"6. 토요일\")\n",
    "print(\"7. 일요일\")\n",
    "inputNum = int(input(\"Select a number: \"))\n",
    "print(english(inputNum))\n",
    "\n",
    " 파이썬은 switch라는 키워드를 가지고 있지 않는다. 하지만 딕셔너리(dictionary)를 \n",
    " 이용하면 switch-case문처럼 사용할 수 있다.\n",
    "\n",
    " 위의 예제는 english의 입력 값이 1이면 'Monday'를 return하고, 2이면 'Tuesday' ... \n",
    " 7이면 'Sunday'를 return한다. 만약 key값에 존재하지 않는 입력 값을 입력한다면 에러\n",
    " 가 날 것이다. 이러한 예외처리를 위해 default값을 지정할 수 있다.\n",
    "\n",
    " get을 쓰게 되면 없는 키에 대해서는 KeyError가 아닌 지정한 값을 리턴해준다. 이 \n",
    " 예제에서는 'No Data'가 출력될 것이다. 만약 get에 아무 값을 지정하지 않는다면 None을 \n",
    " return할 것이다.\n",
    "'''"
   ]
  },
  {
   "cell_type": "code",
   "execution_count": 2,
   "metadata": {},
   "outputs": [
    {
     "name": "stdout",
     "output_type": "stream",
     "text": [
      "1. 월요일\n",
      "2. 화요일\n",
      "9. 수요일\n",
      "4. 목요일\n",
      "5. 금요일\n",
      "6. 토요일\n",
      "7. 일요일\n",
      "Sunday\n"
     ]
    }
   ],
   "source": [
    "def english(week):\n",
    "  return {1:\"Monday\",\n",
    "    2: \"Tuesday\",\n",
    "    3: \"Wednesday\",\n",
    "    4: \"Thursday\",\n",
    "    5: \"Friday\",\n",
    "    6: \"Saturday\",\n",
    "    7: \"Sunday\",\n",
    "    }.get(week, \"No Data\")\n",
    "\n",
    "print(\"1. 월요일\")\n",
    "print(\"2. 화요일\")\n",
    "print(\"9. 수요일\")\n",
    "print(\"4. 목요일\")\n",
    "print(\"5. 금요일\")\n",
    "print(\"6. 토요일\")\n",
    "print(\"7. 일요일\")\n",
    "inputNum = int(input(\"Select a number: \"))\n",
    "print(english(inputNum))"
   ]
  },
  {
   "cell_type": "code",
   "execution_count": null,
   "metadata": {},
   "outputs": [],
   "source": [
    "#Tutorial 3.4\n",
    "'''\n",
    "pass\n",
    "\n",
    "<code>\n",
    "textSample = 'good job'\n",
    "for i in textSample:\n",
    "  if i:\n",
    "    print(i)\n",
    "    pass\n",
    "  print('End')\n",
    "\n",
    "for i in textSample:\n",
    "  if i:\n",
    "    print(i)\n",
    "    continue\n",
    "  print('End')\n",
    "\n",
    "pass 키워드는 '아무 행동도 하지 않음'이라는 의미를 가진 키워드이다. \n",
    "\n",
    "앞선 예시에서 보았듯이 if구문에서의 pass 역할은 아무것도 없다. 이와 많이 \n",
    "비교되는 것이  continue이다. continue 키워드는 반복문을 진행중에 continue \n",
    "키워드 이후의 내용을 진행하지 않고 다음 반복으로 넘어가도록 하는 키워드이다.\n",
    "아무 행동도 하지않는 pass와는 명백히 다르다.\n",
    "\n",
    "그럼에도 불구하고 pass가 사용되는 이유는 파이썬은 다른 프로그래밍 언어와는 \n",
    "다르게 블럭의 단위를 공백으로 표현하기 때문이다. 파이썬은 어떤 구문 내에 공\n",
    "백이 존재할 때, 구문 해석 과정에서 오류가 발생한다. 따라서 이를 방지하기 위해 \n",
    "pass를 빈 구문 내에 적어둠으로써 오류가 발생하는 것을 피할 수 있다.\n",
    "'''"
   ]
  },
  {
   "cell_type": "code",
   "execution_count": 3,
   "metadata": {},
   "outputs": [
    {
     "name": "stdout",
     "output_type": "stream",
     "text": [
      "g\n",
      "End\n",
      "o\n",
      "End\n",
      "o\n",
      "End\n",
      "d\n",
      "End\n",
      " \n",
      "End\n",
      "j\n",
      "End\n",
      "o\n",
      "End\n",
      "b\n",
      "End\n",
      "g\n",
      "o\n",
      "o\n",
      "d\n",
      " \n",
      "j\n",
      "o\n",
      "b\n"
     ]
    }
   ],
   "source": [
    "textSample = 'good job'\n",
    "for i in textSample:\n",
    "  if i:\n",
    "    print(i)\n",
    "    pass\n",
    "  print('End')\n",
    "\n",
    "for i in textSample:\n",
    "  if i:\n",
    "    print(i)\n",
    "    continue\n",
    "  print('End')"
   ]
  }
 ],
 "metadata": {
  "kernelspec": {
   "display_name": "Python 3",
   "language": "python",
   "name": "python3"
  },
  "language_info": {
   "codemirror_mode": {
    "name": "ipython",
    "version": 3
   },
   "file_extension": ".py",
   "mimetype": "text/x-python",
   "name": "python",
   "nbconvert_exporter": "python",
   "pygments_lexer": "ipython3",
   "version": "3.10.11"
  },
  "orig_nbformat": 4
 },
 "nbformat": 4,
 "nbformat_minor": 2
}
