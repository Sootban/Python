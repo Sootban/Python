{
 "cells": [
  {
   "cell_type": "code",
   "execution_count": null,
   "metadata": {},
   "outputs": [],
   "source": [
    "#Tutorial 3.5\n",
    "'''\n",
    "del\n",
    "\n",
    "<code>\n",
    ">>>a = str\n",
    ">>>print(a)\n",
    "'str'\n",
    ">>>del a\n",
    ">>>print(a)\n",
    "Traceback (most recent call last):\n",
    "  File \"test01.py\", line 1, in <module>\n",
    "    print(a)\n",
    "NameError: name 'a' is not defined\n",
    ">>>I = [1,2,3]\n",
    ">>>print(I)\n",
    "[1, 2, 3]\n",
    ">>>del I[1]\n",
    ">>>print(I)\n",
    "Traceback (most recent call last):\n",
    "  File \"test02.py\", line 1, in <module>\n",
    "    print(I)\n",
    "NameError: name 'I' is not defined\n",
    "\n",
    "del은 그 기능을 이름에서 유추할 수 있는 삭제를 하는 파이썬 키워드이다. \n",
    "이 키워드를 사용하게 되면, 이후에 주어지는 객체를 현재 Context에서 제거한다.\n",
    "즉, 현재 환경에서 지워진 객체를 다시 접근할 수 없다.\n",
    "\n",
    "또한, del 키워드는 객체 전체를 제거하는 것은 물론 리스트나 딕셔너리 같은 \n",
    "자료구조의 내용의 일부를 지우는데 사용하기도 한다. 그리고 정의된 클래스 혹은 \n",
    "클래스의 인스턴스와 정의된 함수를 제거하는 것도 가능하다.\n",
    "'''"
   ]
  },
  {
   "cell_type": "code",
   "execution_count": 1,
   "metadata": {},
   "outputs": [
    {
     "name": "stdout",
     "output_type": "stream",
     "text": [
      "str\n"
     ]
    }
   ],
   "source": [
    "a = 'str'\n",
    "print(a)"
   ]
  },
  {
   "cell_type": "code",
   "execution_count": 2,
   "metadata": {},
   "outputs": [
    {
     "ename": "NameError",
     "evalue": "name 'a' is not defined",
     "output_type": "error",
     "traceback": [
      "\u001b[1;31m---------------------------------------------------------------------------\u001b[0m",
      "\u001b[1;31mNameError\u001b[0m                                 Traceback (most recent call last)",
      "Cell \u001b[1;32mIn[2], line 2\u001b[0m\n\u001b[0;32m      1\u001b[0m \u001b[39mdel\u001b[39;00m a\n\u001b[1;32m----> 2\u001b[0m \u001b[39mprint\u001b[39m(a)\n",
      "\u001b[1;31mNameError\u001b[0m: name 'a' is not defined"
     ]
    }
   ],
   "source": [
    "del a\n",
    "print(a)"
   ]
  },
  {
   "cell_type": "code",
   "execution_count": 3,
   "metadata": {},
   "outputs": [
    {
     "name": "stdout",
     "output_type": "stream",
     "text": [
      "[1, 2, 3]\n"
     ]
    }
   ],
   "source": [
    "I = [1,2,3]\n",
    "print(I)"
   ]
  },
  {
   "cell_type": "code",
   "execution_count": 4,
   "metadata": {},
   "outputs": [
    {
     "name": "stdout",
     "output_type": "stream",
     "text": [
      "[1, 3]\n"
     ]
    }
   ],
   "source": [
    "del I[1]\n",
    "print(I)"
   ]
  },
  {
   "cell_type": "code",
   "execution_count": 5,
   "metadata": {},
   "outputs": [
    {
     "ename": "NameError",
     "evalue": "name 'I' is not defined",
     "output_type": "error",
     "traceback": [
      "\u001b[1;31m---------------------------------------------------------------------------\u001b[0m",
      "\u001b[1;31mNameError\u001b[0m                                 Traceback (most recent call last)",
      "Cell \u001b[1;32mIn[5], line 2\u001b[0m\n\u001b[0;32m      1\u001b[0m \u001b[39mdel\u001b[39;00m I\n\u001b[1;32m----> 2\u001b[0m \u001b[39mprint\u001b[39m(I)\n",
      "\u001b[1;31mNameError\u001b[0m: name 'I' is not defined"
     ]
    }
   ],
   "source": [
    "del I\n",
    "print(I)"
   ]
  },
  {
   "cell_type": "code",
   "execution_count": null,
   "metadata": {},
   "outputs": [],
   "source": [
    "#Tutorial 3.6\n",
    "'''\n",
    "assert\n",
    "\n",
    "<code>\n",
    ">>>foo = True\n",
    ">>>bar = False\n",
    ">>>assert foo\n",
    ">>>assert bar\n",
    "Traceback (most recent call last):\n",
    "  File \"test03.py\", line 1, in <module>\n",
    "    assert bar\n",
    "AssertionError\n",
    ">>>assert foo, \"Error Message\"\n",
    ">>>assert bar, \"Error Message\"\n",
    "Traceback (most recent call last):\n",
    "  File \"test04.py\", line 1, in <module>\n",
    "    assert bar, \"Error Message\"\n",
    "AssertionError: Error Message\n",
    "\n",
    "assert는 '표명하다'라는 뜻을 가지고 있다. 여러 언어에서 사용되고 있는 \n",
    "이 키워드는 키워드와 함께 선언되는 조건식의 결과가 참인지 판단하는 역\n",
    "할을 한다.\n",
    "\n",
    "만약 주어진 조건식이 참이라면 당연하다는 듯 아무 행동을 취하지 않는다. \n",
    "반면에, 조건식이 거짓이라면 AssertionError 예외를 발생시킨다.\n",
    "\n",
    "assert 키워드의 이런 특징을 활용하면 논리적인 오류를 해결하는데 자주 \n",
    "사용되곤 한다. 예를 들면 계산된 결과가 올바른지 검산하거나, 다음에 올 \n",
    "명령을 실행하는데 필요한 조건들이 잘 갖추어졌는지 등 어떤 확인이 필요한 \n",
    "상황일 때 사용된다.\n",
    "\n",
    "에러를 일으킨다는 점에서 raise 키워드와 비슷한 역할을 한다고 볼 수 있다. \n",
    "하지만 두 가지 키워드의 차이점은 raise문은 지정된 예외를 반드시 발생시킨\n",
    "다는 것이고 assert는 조건식이 거짓일때만 AssertionError를 발생시킨다는 \n",
    "점이다.\n",
    "'''"
   ]
  },
  {
   "cell_type": "code",
   "execution_count": 6,
   "metadata": {},
   "outputs": [
    {
     "ename": "AssertionError",
     "evalue": "",
     "output_type": "error",
     "traceback": [
      "\u001b[1;31m---------------------------------------------------------------------------\u001b[0m",
      "\u001b[1;31mAssertionError\u001b[0m                            Traceback (most recent call last)",
      "Cell \u001b[1;32mIn[6], line 4\u001b[0m\n\u001b[0;32m      2\u001b[0m bar \u001b[39m=\u001b[39m \u001b[39mFalse\u001b[39;00m\n\u001b[0;32m      3\u001b[0m \u001b[39massert\u001b[39;00m foo\n\u001b[1;32m----> 4\u001b[0m \u001b[39massert\u001b[39;00m bar\n",
      "\u001b[1;31mAssertionError\u001b[0m: "
     ]
    }
   ],
   "source": [
    "foo = True\n",
    "bar = False\n",
    "assert foo\n",
    "assert bar"
   ]
  },
  {
   "cell_type": "code",
   "execution_count": 7,
   "metadata": {},
   "outputs": [
    {
     "ename": "AssertionError",
     "evalue": "Error Message",
     "output_type": "error",
     "traceback": [
      "\u001b[1;31m---------------------------------------------------------------------------\u001b[0m",
      "\u001b[1;31mAssertionError\u001b[0m                            Traceback (most recent call last)",
      "Cell \u001b[1;32mIn[7], line 2\u001b[0m\n\u001b[0;32m      1\u001b[0m \u001b[39massert\u001b[39;00m foo, \u001b[39m\"\u001b[39m\u001b[39mError Message\u001b[39m\u001b[39m\"\u001b[39m\n\u001b[1;32m----> 2\u001b[0m \u001b[39massert\u001b[39;00m bar, \u001b[39m\"\u001b[39m\u001b[39mError Message\u001b[39m\u001b[39m\"\u001b[39m\n",
      "\u001b[1;31mAssertionError\u001b[0m: Error Message"
     ]
    }
   ],
   "source": [
    "assert foo, \"Error Message\"\n",
    "assert bar, \"Error Message\""
   ]
  }
 ],
 "metadata": {
  "kernelspec": {
   "display_name": "Python 3",
   "language": "python",
   "name": "python3"
  },
  "language_info": {
   "codemirror_mode": {
    "name": "ipython",
    "version": 3
   },
   "file_extension": ".py",
   "mimetype": "text/x-python",
   "name": "python",
   "nbconvert_exporter": "python",
   "pygments_lexer": "ipython3",
   "version": "3.10.11"
  },
  "orig_nbformat": 4
 },
 "nbformat": 4,
 "nbformat_minor": 2
}
