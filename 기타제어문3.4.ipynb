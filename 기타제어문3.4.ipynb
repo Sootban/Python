{
 "cells": [
  {
   "cell_type": "code",
   "execution_count": null,
   "metadata": {},
   "outputs": [],
   "source": [
    "#Tutorial 3.7\n",
    "'''\n",
    "return\n",
    "\n",
    "<code>\n",
    "def foo(x, y):\n",
    "  bar = x + y\n",
    "  return bar\n",
    "\n",
    "def foo_multi(x, y):\n",
    "  bar1 = x + y\n",
    "  bar2 = x - y\n",
    "  return bar1, bar2\n",
    "\n",
    "result = foo(1, 2)\n",
    "result1, result2 = foo_multi(1, 2)\n",
    "print(result)\n",
    "print(result1, result2)\n",
    "\n",
    "return [expression_list]\n",
    "return 키워드는 정의된 함수 안에서만 사용된다. 반환할 값이 존재한다면 해당 값을 \n",
    "계산하고 함수가 호출된 곳으로 반환한다. 만약 반환값이 없다면 None이 반환된다.\n",
    "\n",
    "위에 expression_list라는 이름으로 쓰여있듯 반환되는 값은 한 개가 아닐 수 있다. \n",
    "여러개를 ','로 구분하여 반환할 수 있다.\n",
    "\n",
    "또한, 함수 내에서 try-finally 구문이 사용되었을 경우 try구문 중간에 return이 \n",
    "되더라도 finally구문이 반환되기 전에 실행된다는 것이다. 그리고 제너레이터 함수에 \n",
    "사용되는 경우에는 return은 Stoplteration 예외를 발생시키며 제너레이터가 끝났다는 \n",
    "것을 나타낸다.\n",
    "'''"
   ]
  },
  {
   "cell_type": "code",
   "execution_count": 1,
   "metadata": {},
   "outputs": [
    {
     "name": "stdout",
     "output_type": "stream",
     "text": [
      "3\n",
      "3 -1\n"
     ]
    }
   ],
   "source": [
    "def foo(x, y):\n",
    "  bar = x + y\n",
    "  return bar\n",
    "\n",
    "def foo_multi(x, y):\n",
    "  bar1 = x + y\n",
    "  bar2 = x - y\n",
    "  return bar1, bar2\n",
    "\n",
    "result = foo(1, 2)\n",
    "result1, result2 = foo_multi(1, 2)\n",
    "print(result)\n",
    "print(result1, result2)"
   ]
  },
  {
   "cell_type": "code",
   "execution_count": null,
   "metadata": {},
   "outputs": [],
   "source": [
    "#Tutorial 3.8\n",
    "'''\n",
    "yield\n",
    "\n",
    "<code>\n",
    "def simple_generator():\n",
    "  for i in range(1, 5):\n",
    "    yield i * i\n",
    "\n",
    "for i in simple_generator():\n",
    "  print(i)\n",
    "\n",
    "파이썬의 yield 키워드가 어떤 역할을 하는지 이해하기 위해서는 Generator가 \n",
    "무엇인지부터 알 필요가 있다.\n",
    "\n",
    "Generator는 iterator이다. iterator는 for 구문을 활용하여 하나씩 데이터를 \n",
    "처리할 수 있는 컬렉션이나 Sequence들을 말한다. 여기에는 List, Set, Dictionary와 \n",
    "같은 것들이 포함된다. Generator는 순회할 모든 값들을 메모리에 담지 않고 사용될 \n",
    "때마다 값을 생성하여 반환하는 특징이 있다.\n",
    "\n",
    " yield 키워드는 함수 안에 정의되어 해당 함수를 Generator로 만들기 위해 사용된다. \n",
    " Generator 함수를 실행하면 Generator 객체가 반환이 되고, 그 객체를 순회하며 \n",
    " Generator가 반환하는 값들을 순차적으로 출력할 수 있다. 여기서 반환하는 값들은 \n",
    " Generator 함수 안에 yield 뒤에 오는 값들이 반환된다.\n",
    "'''"
   ]
  },
  {
   "cell_type": "code",
   "execution_count": 2,
   "metadata": {},
   "outputs": [
    {
     "name": "stdout",
     "output_type": "stream",
     "text": [
      "1\n",
      "4\n",
      "9\n",
      "16\n"
     ]
    }
   ],
   "source": [
    "def simple_generator():\n",
    "  for i in range(1, 5):\n",
    "    yield i * i\n",
    "\n",
    "for i in simple_generator():\n",
    "  print(i)"
   ]
  },
  {
   "cell_type": "code",
   "execution_count": null,
   "metadata": {},
   "outputs": [],
   "source": [
    "#Tutorial 3.9\n",
    "'''\n",
    "raise\n",
    "\n",
    "<code>[1]\n",
    "print('foo')\n",
    "try:\n",
    "  raise Exception('My Error')\n",
    "except Exception as e:\n",
    "  print(e)\n",
    "print('bar')\n",
    "\n",
    "<code>[2]\n",
    "print('foo')\n",
    "raise Exception('My Error')\n",
    "print('bar')\n",
    "\n",
    "파이썬의 문법이나 구문에 오류가 있을 경우에 파이썬 인터프리터가 자동으로 \n",
    "예외를 발생시키고 오류 구문을 출력한다.\n",
    "\n",
    "반면, raise는 사용자가 에러를 직접 일으킬 수 있도록 한다. 이를 통해 사용자가 \n",
    "원하는 위치에 예외 발생구문을 추가하여 코딩을 할 수 있다. 또한, 위 예제에서 \n",
    "볼 수 있듯 일반적으로는 raise를 통해 예외를 발생시키면 프로그램이 동작을 중지\n",
    "하는 반면, try-catch문과 함께 사용하여 예외에 대한 처리를 하게된다면 프로그램이 \n",
    "실행 중 에러를 발생시키며 멈추지 않고, except 구문에 구현된 처리루틴을 실행하고 \n",
    "프로그램을 지속적으로 실행되도록 할 수도 있다.\n",
    "\n",
    "다만, 너무 많이 쓰게되면 코드의 가독성을 크게 떨어뜨릴 수 있다.\n",
    "'''"
   ]
  },
  {
   "cell_type": "code",
   "execution_count": 3,
   "metadata": {},
   "outputs": [
    {
     "name": "stdout",
     "output_type": "stream",
     "text": [
      "foo\n",
      "My Error\n",
      "bar\n"
     ]
    }
   ],
   "source": [
    "print('foo')\n",
    "try:\n",
    "  raise Exception('My Error')\n",
    "except Exception as e:\n",
    "  print(e)\n",
    "print('bar')"
   ]
  },
  {
   "cell_type": "code",
   "execution_count": 4,
   "metadata": {},
   "outputs": [
    {
     "name": "stdout",
     "output_type": "stream",
     "text": [
      "foo\n"
     ]
    },
    {
     "ename": "Exception",
     "evalue": "My Error",
     "output_type": "error",
     "traceback": [
      "\u001b[1;31m---------------------------------------------------------------------------\u001b[0m",
      "\u001b[1;31mException\u001b[0m                                 Traceback (most recent call last)",
      "Cell \u001b[1;32mIn[4], line 2\u001b[0m\n\u001b[0;32m      1\u001b[0m \u001b[39mprint\u001b[39m(\u001b[39m'\u001b[39m\u001b[39mfoo\u001b[39m\u001b[39m'\u001b[39m)\n\u001b[1;32m----> 2\u001b[0m \u001b[39mraise\u001b[39;00m \u001b[39mException\u001b[39;00m(\u001b[39m'\u001b[39m\u001b[39mMy Error\u001b[39m\u001b[39m'\u001b[39m)\n\u001b[0;32m      3\u001b[0m \u001b[39mprint\u001b[39m(\u001b[39m'\u001b[39m\u001b[39mbar\u001b[39m\u001b[39m'\u001b[39m)\n",
      "\u001b[1;31mException\u001b[0m: My Error"
     ]
    }
   ],
   "source": [
    "print('foo')\n",
    "raise Exception('My Error')\n",
    "print('bar')"
   ]
  }
 ],
 "metadata": {
  "kernelspec": {
   "display_name": "Python 3",
   "language": "python",
   "name": "python3"
  },
  "language_info": {
   "codemirror_mode": {
    "name": "ipython",
    "version": 3
   },
   "file_extension": ".py",
   "mimetype": "text/x-python",
   "name": "python",
   "nbconvert_exporter": "python",
   "pygments_lexer": "ipython3",
   "version": "3.10.11"
  },
  "orig_nbformat": 4
 },
 "nbformat": 4,
 "nbformat_minor": 2
}
