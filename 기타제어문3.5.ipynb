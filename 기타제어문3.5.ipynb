{
 "cells": [
  {
   "cell_type": "code",
   "execution_count": null,
   "metadata": {},
   "outputs": [],
   "source": [
    "#Tutorial 3.10\n",
    "'''\n",
    "<code>\n",
    "import foo\n",
    "import foo.bar\n",
    "import foo as bar\n",
    "from foo import bar\n",
    "from foo import bar as baz\n",
    "\n",
    "import 키워드는 현재 모듈에서 다른 모듈의 코딩 내용에 접근하기 \n",
    "위해 코드 내에서 사용된다. 프로그램이 커질수록 모듈을 나누는 것이 \n",
    "재사용성이나 가독성 면에서 좋다. 따라서 여러 모듈로 나누게되고 \n",
    "나누어진 모듈을 접근하기 위한 키워드가 import이다.\n",
    "\n",
    "이 키워드를 사용하는 방식은 다양하게 있다. import 뒤에 모듈을 \n",
    "명시하여 모듈을 가져오는 방법, 혹은 패키지 안에 속해 있다면 '패\n",
    "키지명.모듈명' 방식을 통해 모듈을 가져올 수도 있다. 만약 모듈이 \n",
    "아닌 모듈 안에 속한 함수, 클래스, 변수와 같은 것들을 개별적으로 \n",
    "가져오기 위해서는 'from 모듈 import 이름'과 같은 형식으로 가져올 \n",
    "수 있다. 또한, 가져온 모듈의 이름을 바꾸고 싶을 때는 as라는 키워\n",
    "드로 다른 이름으로 명시해주면 import가 정의되어 있는 namespace \n",
    "안에서는 바뀐 이름으로 접근가능하다.\n",
    "'''"
   ]
  },
  {
   "cell_type": "code",
   "execution_count": null,
   "metadata": {},
   "outputs": [],
   "source": [
    "import foo\n",
    "import foo.bar\n",
    "import foo as bar\n",
    "from foo import bar\n",
    "from foo import bar as baz"
   ]
  },
  {
   "cell_type": "code",
   "execution_count": null,
   "metadata": {},
   "outputs": [],
   "source": [
    "'''\n",
    "<code>\n",
    "[1]test01.py\n",
    "name = 'leehojun'\n",
    "age = 10\n",
    "\n",
    "[2]실행file\n",
    "from test01 import name, age\n",
    "print(name, age)\n",
    "\n",
    "같은 폴더 내에 두개의 파일을 만들어놓고 2번을 실행시키면 된다. \n",
    "1번에서 정의된 변수를 마치 2번에서 선언한 것처럼 사용할 수 있다. \n",
    "\n",
    "import만 사용하는 방법도 있는데 이 경우에는 앞에 모듈 이름을 붙여\n",
    "줘야한다. 예를 들어, 위에서 'from profile import name, age' 부분\n",
    "을 'import profile'이라고 적었을 경우에는 아래 변수명을 profile.name\n",
    "과 profile.age이라고 적어야 한다.\n",
    "\n",
    "import해야 할 것이 여러 개일 경우 일일이 적지 않고 '*'를 사용하기도 \n",
    "한다.\n",
    "'''"
   ]
  },
  {
   "cell_type": "code",
   "execution_count": 23,
   "metadata": {},
   "outputs": [
    {
     "name": "stdout",
     "output_type": "stream",
     "text": [
      "leehojun 10\n"
     ]
    }
   ],
   "source": [
    "from test01 import name, age\n",
    "print(name, age)"
   ]
  },
  {
   "cell_type": "code",
   "execution_count": null,
   "metadata": {},
   "outputs": [],
   "source": [
    "#Tutorial 3.11\n",
    "'''\n",
    "nonlocal\n",
    "\n",
    "<code>[1]\n",
    "x = 0\n",
    "def outer():\n",
    "    x = 1\n",
    "    def inner():\n",
    "        nonlocal x\n",
    "        x = 2\n",
    "        print(\"inner:\", x)\n",
    "    \n",
    "    inner()\n",
    "    print(\"outer:\", x)\n",
    "\n",
    "outer()\n",
    "print(\"global:\", x)\n",
    "\n",
    "<code>[2]\n",
    "x = 0\n",
    "def outer():\n",
    "    x = 1\n",
    "    def inner():\n",
    "        global x\n",
    "        x = 2\n",
    "        print(x)\n",
    "\n",
    "    inner()\n",
    "    print(x)\n",
    "\n",
    "outer()\n",
    "print(x)\n",
    "\n",
    "nonlocal 키우더드를 이해하기 위해서는 네임스페이스와 변수의 스코프를 \n",
    "이해해야한다. 네임스페이스란 프로그래밍 언어에서 특정한 엔티티를 이름에 \n",
    "따라 구분할 수 있는 범위를 말한다. 그리고 변수의 스코프는 변수의 이름으로 \n",
    "그 변수가 가리키는 엔티티를 찾을 수 있는 영역의 범위이다.\n",
    "\n",
    "nonlocal 키워드는 현재 스코프 바깥의 변수 중 전역변수가 아닌 변수를 참조할 \n",
    "수 있게 하는 구문이다. 코드 예시에서 보여지는 것처럼 inner() 함수에서 \n",
    "nonlocal을 지정한 변수는 outer() 함수의 같은 이름의 변수를 참조한다.\n",
    "\n",
    "이는 golbal과 구분된 구문이다. global은 전역변수를 수정할 수 있도록 해주는 \n",
    "구문이다. nonlocal과 구분해서 사용해야한다.\n",
    "'''"
   ]
  },
  {
   "cell_type": "code",
   "execution_count": 24,
   "metadata": {},
   "outputs": [
    {
     "name": "stdout",
     "output_type": "stream",
     "text": [
      "inner: 2\n",
      "outer: 2\n",
      "global: 0\n"
     ]
    }
   ],
   "source": [
    "x = 0\n",
    "def outer():\n",
    "    x = 1\n",
    "    def inner():\n",
    "        nonlocal x\n",
    "        x = 2\n",
    "        print(\"inner:\", x)\n",
    "    \n",
    "    inner()\n",
    "    print(\"outer:\", x)\n",
    "\n",
    "outer()\n",
    "print(\"global:\", x)"
   ]
  },
  {
   "cell_type": "code",
   "execution_count": 25,
   "metadata": {},
   "outputs": [
    {
     "name": "stdout",
     "output_type": "stream",
     "text": [
      "2\n",
      "1\n",
      "2\n"
     ]
    }
   ],
   "source": [
    "x = 0\n",
    "def outer():\n",
    "    x = 1\n",
    "    def inner():\n",
    "        global x\n",
    "        x = 2\n",
    "        print(x)\n",
    "\n",
    "    inner()\n",
    "    print(x)\n",
    "\n",
    "outer()\n",
    "print(x)"
   ]
  },
  {
   "cell_type": "code",
   "execution_count": null,
   "metadata": {},
   "outputs": [],
   "source": [
    "#https://www.daleseo.com/python-global-nonlocal/"
   ]
  }
 ],
 "metadata": {
  "kernelspec": {
   "display_name": "Python 3",
   "language": "python",
   "name": "python3"
  },
  "language_info": {
   "codemirror_mode": {
    "name": "ipython",
    "version": 3
   },
   "file_extension": ".py",
   "mimetype": "text/x-python",
   "name": "python",
   "nbconvert_exporter": "python",
   "pygments_lexer": "ipython3",
   "version": "3.10.11"
  },
  "orig_nbformat": 4
 },
 "nbformat": 4,
 "nbformat_minor": 2
}
