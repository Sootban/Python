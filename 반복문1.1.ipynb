{
 "cells": [
  {
   "cell_type": "code",
   "execution_count": null,
   "metadata": {},
   "outputs": [],
   "source": [
    "#Tutorial 1.1\n",
    "'''\n",
    "while\n",
    "\n",
    "<code>\n",
    "a = 1\n",
    "while a < 10:\n",
    "    print(a)\n",
    "    a += 1\n",
    "\n",
    "while 문을 사용하면 코드를 반복해서 실행하지 않아도 된다.\n",
    "while 문은 조건이 참인 동안에 명령을 반복해서 수행한다.\n",
    "반복할 명령은 들여쓰기로 구분되며 조건이 거짓이면 들여쓰기로 \n",
    "구분되어 있는 반복 구문을 탈출한다.\n",
    "\n",
    "위의 예제에서 9를 출력하고 마지막 a+=1이 연산(할당연산)되면\n",
    "a = 10이 되어 조건이 거짓이 되므로 루프를 탈출한다.\n",
    "'''"
   ]
  },
  {
   "cell_type": "code",
   "execution_count": 1,
   "metadata": {},
   "outputs": [
    {
     "name": "stdout",
     "output_type": "stream",
     "text": [
      "1\n",
      "2\n",
      "3\n",
      "4\n",
      "5\n",
      "6\n",
      "7\n",
      "8\n",
      "9\n"
     ]
    }
   ],
   "source": [
    "a = 1\n",
    "while a < 10:\n",
    "    print(a)\n",
    "    a += 1"
   ]
  },
  {
   "cell_type": "code",
   "execution_count": null,
   "metadata": {},
   "outputs": [],
   "source": [
    "'''\n",
    "[while 문의 구조]\n",
    "\n",
    "while조건문:\n",
    "    수행할 문장1\n",
    "    수행할 문장2\n",
    "\n",
    "[반복문 순서도 (Flowchart)]\n",
    "while문\n",
    "    시작 -> 조건문 -True-> 수행할 문장1,2 -> 조건문(반복)\n",
    "                  -False-> 종료\n",
    "'''"
   ]
  },
  {
   "cell_type": "code",
   "execution_count": null,
   "metadata": {},
   "outputs": [],
   "source": [
    "#Tutorial 1.1.1\n",
    "'''\n",
    "무한반복 while, break\n",
    "\n",
    "<code>\n",
    "a = 1\n",
    "while True:\n",
    "    print(a)\n",
    "    a += 1\n",
    "    if a == 9:\n",
    "        break\n",
    "\n",
    "while 문의 조건을 부분에 bool 형인 True가 오게 하면 반복문은 무한 반복되게 된다.\n",
    "무한 반복하면 프로그램이나 서비스가 죽는 사태가 발생되기 때문에 조건을 탈출할 수 \n",
    "있는 구문을 중간에 입력하거나 메모리 공간을 확보할 쉬는 시간을 주어야 한다.\n",
    "\n",
    "여기서는 break 문으로 조건을 탈출하도록 설계했다.\n",
    "'''"
   ]
  },
  {
   "cell_type": "code",
   "execution_count": 2,
   "metadata": {},
   "outputs": [
    {
     "name": "stdout",
     "output_type": "stream",
     "text": [
      "1\n",
      "2\n",
      "3\n",
      "4\n",
      "5\n",
      "6\n",
      "7\n",
      "8\n"
     ]
    }
   ],
   "source": [
    "a = 1\n",
    "while True:\n",
    "    print(a)\n",
    "    a += 1\n",
    "    if a == 9:\n",
    "        break"
   ]
  },
  {
   "cell_type": "code",
   "execution_count": null,
   "metadata": {},
   "outputs": [],
   "source": [
    "#Tutorial 1.1.2\n",
    "'''\n",
    "while, else\n",
    "\n",
    "<code>[1]\n",
    "a = 1\n",
    "while a < 3:\n",
    "    print(a)\n",
    "    a += 1\n",
    "    if a == 5:\n",
    "        break\n",
    "else:\n",
    "    print('good job')\n",
    "\n",
    "<code>[2]\n",
    "a = 1\n",
    "while a < 6:\n",
    "    print(a)\n",
    "    a += 1\n",
    "    if a == 5:\n",
    "        break\n",
    "else:\n",
    "    print('good job')\n",
    "\n",
    "else문은 다양하게 활용(특히 if문에서)된다. while문에서 else는 루프가 정상종료\n",
    "되었을 때와 처음부터 while의 조건문이 False일 경우 실행된다. 위에 두번째 예제\n",
    "에서 a == 5인 경우 break문을 만나면 else문을 실행하지 않고 빠져나온다.    \n",
    "'''"
   ]
  },
  {
   "cell_type": "code",
   "execution_count": 3,
   "metadata": {},
   "outputs": [
    {
     "name": "stdout",
     "output_type": "stream",
     "text": [
      "1\n",
      "2\n",
      "good job\n"
     ]
    }
   ],
   "source": [
    "a = 1\n",
    "while a < 3:\n",
    "    print(a)\n",
    "    a += 1\n",
    "    if a == 5:\n",
    "        break\n",
    "else:\n",
    "    print('good job')"
   ]
  },
  {
   "cell_type": "code",
   "execution_count": 4,
   "metadata": {},
   "outputs": [
    {
     "name": "stdout",
     "output_type": "stream",
     "text": [
      "1\n",
      "2\n",
      "3\n",
      "4\n"
     ]
    }
   ],
   "source": [
    "a = 1\n",
    "while a < 6:\n",
    "    print(a)\n",
    "    a += 1\n",
    "    if a == 5:\n",
    "        break\n",
    "else:\n",
    "    print('good job')"
   ]
  }
 ],
 "metadata": {
  "kernelspec": {
   "display_name": "Python 3",
   "language": "python",
   "name": "python3"
  },
  "language_info": {
   "codemirror_mode": {
    "name": "ipython",
    "version": 3
   },
   "file_extension": ".py",
   "mimetype": "text/x-python",
   "name": "python",
   "nbconvert_exporter": "python",
   "pygments_lexer": "ipython3",
   "version": "3.10.10"
  },
  "orig_nbformat": 4
 },
 "nbformat": 4,
 "nbformat_minor": 2
}
