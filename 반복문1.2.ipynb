{
 "cells": [
  {
   "cell_type": "code",
   "execution_count": null,
   "metadata": {},
   "outputs": [],
   "source": [
    "#Tutorial 1.2\n",
    "'''\n",
    "for\n",
    "\n",
    "while문은 '조건'을 가지고 반복을 실행할지를 판단했다. for은 순서열을\n",
    "순회하며 순서열의 끝에 도달하면 반복을 멈추게 된다.\n",
    "for문은 객체를 처음부터 끝까지 추출하며 순회하기 때문에 일반적으로 가\n",
    "장 많이 사용되는 반복문이다.\n",
    "\n",
    "<code>\n",
    "for x in(1,2,3):\n",
    "    print(x)\n",
    "\n",
    "위의 코드를 실행하면 변수 x에는 튜플(1,2,3)의 요소가 순서대로 출력된다.\n",
    "위 예제에서 튜플의 길이는 3이므로 for문은 반복을 3번 수행한다.\n",
    "여기서 x는 앞에서 초기화 하지 않아도 작동한다. while이 비교할 변수를 먼\n",
    "저 선언 해주는 것에 비해 간편하고 직관적이기 때문에 자주 사용된다.\n",
    "'''"
   ]
  },
  {
   "cell_type": "code",
   "execution_count": 1,
   "metadata": {},
   "outputs": [
    {
     "name": "stdout",
     "output_type": "stream",
     "text": [
      "1\n",
      "2\n",
      "3\n"
     ]
    }
   ],
   "source": [
    "for x in(1,2,3):\n",
    "    print(x)"
   ]
  },
  {
   "cell_type": "code",
   "execution_count": null,
   "metadata": {},
   "outputs": [],
   "source": [
    "'''\n",
    "[for문의 구조]\n",
    "\n",
    "for (변수명) in (순회 가능한 객체):\n",
    "    수행할 문장1\n",
    "    수행할 문장2\n",
    "\n",
    "for문의 범위로 사용되는 것은 시퀀스 자료형 자료 또는 반복 가능한 자료형이어야 한다.\n",
    "\n",
    "[반복문 순서도 (Flowchart)]\n",
    "for 문\n",
    "    시작 -> 초기문 -> Sequence 종료여부 -True-> 수행할 문장1,2 -> 반복 후 작업 -> Sequence 종료여부(반복)\n",
    "                                       -False-> 종료\n",
    "'''"
   ]
  },
  {
   "cell_type": "code",
   "execution_count": 2,
   "metadata": {},
   "outputs": [
    {
     "name": "stdout",
     "output_type": "stream",
     "text": [
      "a\n",
      "b\n",
      "c\n"
     ]
    }
   ],
   "source": [
    "#String(문자열)을 범위로 지정한 예\n",
    "\n",
    "알파벳 = 'abc'\n",
    "for a in 알파벳:\n",
    "    print(a)"
   ]
  },
  {
   "cell_type": "code",
   "execution_count": 3,
   "metadata": {},
   "outputs": [
    {
     "name": "stdout",
     "output_type": "stream",
     "text": [
      "사과\n",
      "바나나\n",
      "포도\n"
     ]
    }
   ],
   "source": [
    "#List(리스트)를 범위로 지정한 예\n",
    "\n",
    "과일 = ['사과', '바나나', '포도']\n",
    "for a in 과일:\n",
    "    print(a)"
   ]
  },
  {
   "cell_type": "code",
   "execution_count": 4,
   "metadata": {},
   "outputs": [
    {
     "name": "stdout",
     "output_type": "stream",
     "text": [
      "이름\n",
      "연락처\n",
      "주소\n",
      "출생\n"
     ]
    }
   ],
   "source": [
    "#Dictionary(사전)을 범위로 지정한 예\n",
    "\n",
    "회원정보 = {'이름':'홍길동', '연락처':'01011112222', '주소':'서울시', '출생':'930101'}\n",
    "for a in 회원정보:\n",
    "    print(a)"
   ]
  },
  {
   "cell_type": "code",
   "execution_count": null,
   "metadata": {},
   "outputs": [],
   "source": [
    "'''\n",
    "위의 예제에서 Dictionary(사전)형 자료의 경우에는 key(키)만을 가져오게 된다.\n",
    "key(키)에 해당하는 value(값)또한 가져 오고 싶다면 튜플 언패킹을 사용해 다음\n",
    "과 같이 사용할 수 있다.\n",
    "\n",
    "<code>\n",
    "for key, value in 회원정보.items():\n",
    "    print(\"{0}:{1}\".format(key,value))\n",
    "'''"
   ]
  },
  {
   "cell_type": "code",
   "execution_count": 5,
   "metadata": {},
   "outputs": [
    {
     "name": "stdout",
     "output_type": "stream",
     "text": [
      "이름:홍길동\n",
      "연락처:01011112222\n",
      "주소:서울시\n",
      "출생:930101\n"
     ]
    }
   ],
   "source": [
    "for key, value in 회원정보.items():\n",
    "    print(\"{0}:{1}\".format(key,value))"
   ]
  },
  {
   "cell_type": "code",
   "execution_count": null,
   "metadata": {},
   "outputs": [],
   "source": [
    "'''\n",
    "위에 예시된 튜플, 리스트, 문자열 보다도 for문에 가장 많이 사용되어지는 순서열은\n",
    "range로써 특정 값의 범위를 만들기 위해서 range 함수를 사용할 수 있다.\n",
    "(*range는 2.x에서는 선언하는 즉시 list가 되었으나 3.x로 넘어오면서 range는 list\n",
    "로 변환해주어야 list가 된다. 이는 2.x에서 썼었던 xrange와 같은 함수이다.)\n",
    "\n",
    "range 함수는 연속하는 수열을 만든다. range(시작 값:종료 값:연속하는 두 수의 차) \n",
    "형식으로 선언되며 아래 예제를 보자.\n",
    "'''"
   ]
  },
  {
   "cell_type": "code",
   "execution_count": 6,
   "metadata": {},
   "outputs": [
    {
     "name": "stdout",
     "output_type": "stream",
     "text": [
      "0\n",
      "1\n",
      "2\n",
      "3\n",
      "4\n"
     ]
    }
   ],
   "source": [
    "#시작 값:0, 종료 값:5, 연속하는 두 수의 차:1\n",
    "\n",
    "for a in range(0,5,1):\n",
    "    print(a)"
   ]
  },
  {
   "cell_type": "code",
   "execution_count": null,
   "metadata": {},
   "outputs": [],
   "source": [
    "'''\n",
    "시작값 0과 멈춤값 5 사이의 연속하는 두 수의 차 1을 가지고 있는 요소들이\n",
    "생성되었다. 생성된 레인지의 마지막 요소가 멈춤값 보다 한 단계 작다는 사\n",
    "실에 주의하자.\n",
    "'''"
   ]
  },
  {
   "cell_type": "code",
   "execution_count": 7,
   "metadata": {},
   "outputs": [
    {
     "name": "stdout",
     "output_type": "stream",
     "text": [
      "0\n",
      "2\n",
      "4\n",
      "6\n",
      "8\n"
     ]
    }
   ],
   "source": [
    "#시작 값:0, 종료 값:10, 연속하는 두 수의 차:2\n",
    "\n",
    "for a in range(0,10,2):\n",
    "    print(a)"
   ]
  },
  {
   "cell_type": "code",
   "execution_count": null,
   "metadata": {},
   "outputs": [],
   "source": [
    "'''\n",
    "시작 값은 0, 종료 값 10 사이의 연속하는 두 수의 차 2를 가지고 있는 요소들이\n",
    "생성되었다. 생성된 레인지의 마지막 요소가 종료 값 보다 한 단계 작다는 사실에 \n",
    "주의하자. range()함수의 마지막 매개변수인 연속하는 두 수의 차는 생략할 수 \n",
    "있다. 생략할 시 연속하는 두 수의 차는 1이다.\n",
    "'''"
   ]
  },
  {
   "cell_type": "code",
   "execution_count": 8,
   "metadata": {},
   "outputs": [
    {
     "name": "stdout",
     "output_type": "stream",
     "text": [
      "0\n",
      "1\n",
      "2\n",
      "3\n",
      "4\n"
     ]
    }
   ],
   "source": [
    "#시작 값:0, 종료 값:5, 연속하는 두 수의 차:생략\n",
    "\n",
    "for a in range(0,5):\n",
    "    print(a)"
   ]
  },
  {
   "cell_type": "code",
   "execution_count": null,
   "metadata": {},
   "outputs": [],
   "source": [
    "'''\n",
    "마지막 매개변수인 연속하는 두 수의 차를 생략하고 range()함수를 \n",
    "호출했다. 이 경우 range()함수는 마지막 매개변수 연속하는 두 수\n",
    "의 차는 1이 된다.\n",
    "'''"
   ]
  },
  {
   "cell_type": "code",
   "execution_count": 9,
   "metadata": {},
   "outputs": [
    {
     "name": "stdout",
     "output_type": "stream",
     "text": [
      "0\n",
      "1\n",
      "2\n",
      "3\n",
      "4\n"
     ]
    }
   ],
   "source": [
    "#시작 값:생략, 종료 값:5, 연속하는 두 수의 차:생략\n",
    "\n",
    "for a in range(5):\n",
    "    print(a)"
   ]
  },
  {
   "cell_type": "code",
   "execution_count": null,
   "metadata": {},
   "outputs": [],
   "source": [
    "'''\n",
    "또한 range() 함수는 종료 값만을 입력하여 호출할 수 있다. 종료 값만 \n",
    "입력했을 시에는 시작 값은 0이 되며 두 수의 차는 1이 된다.\n",
    "'''"
   ]
  },
  {
   "cell_type": "code",
   "execution_count": null,
   "metadata": {},
   "outputs": [],
   "source": [
    "'''\n",
    "for 문에 사용될 수 있는 시퀀스 자료는 문자열, 리스트, 튜플이 있다.\n",
    "이 자료형은 클래스 안 매서드로 __iter__와 __next__를 가지고 있으며 \n",
    "이 두개의 매서드로 순회가 가능하게 한다. 이는 아래와 같이 iter()함\n",
    "수와 next()함수로도 실행을 할 수 있다.\n",
    "\n",
    "<code>\n",
    "listx = [100, 200, 300, 400]\n",
    "strx = 'abcd'\n",
    "listxIter = iter(listx)\n",
    "strxIter = iter(strx)\n",
    "print(next(listxIter), next(listxIter), next(listxIter), next(listxIter))\n",
    "print(next(strxIter), next(strxIter), next(strxIter), next(strxIter))\n",
    "'''"
   ]
  },
  {
   "cell_type": "code",
   "execution_count": 10,
   "metadata": {},
   "outputs": [
    {
     "name": "stdout",
     "output_type": "stream",
     "text": [
      "100 200 300 400\n",
      "a b c d\n"
     ]
    }
   ],
   "source": [
    "listx = [100, 200, 300, 400]\n",
    "strx = 'abcd'\n",
    "listxIter = iter(listx)\n",
    "strxIter = iter(strx)\n",
    "print(next(listxIter), next(listxIter), next(listxIter), next(listxIter))\n",
    "print(next(strxIter), next(strxIter), next(strxIter), next(strxIter))"
   ]
  },
  {
   "cell_type": "code",
   "execution_count": null,
   "metadata": {},
   "outputs": [],
   "source": [
    "#Tutorial 1.2.1\n",
    "'''\n",
    "for else\n",
    "\n",
    "<code>[1]\n",
    "for i in range(5):\n",
    "    print(i)\n",
    "    if i == 3:\n",
    "        break\n",
    "else:\n",
    "    print('good job')\n",
    "\n",
    "<code>[2]\n",
    "for i in range(5):\n",
    "    print(i)\n",
    "    if i == 10:\n",
    "        break\n",
    "else:\n",
    "    print('good job')\n",
    "\n",
    "while, else의 경우처럼 for에서도 else를 사용할 수 있다. else는 루프가\n",
    "정상종료 되었을 때, 처음부터 자료형이 비어있었을 때 실행된다. while, \n",
    "else와 마찬가지로 break문을 만나면 else문을 실행하지 않고 빠져나온다.\n",
    "'''"
   ]
  },
  {
   "cell_type": "code",
   "execution_count": 12,
   "metadata": {},
   "outputs": [
    {
     "name": "stdout",
     "output_type": "stream",
     "text": [
      "0\n",
      "1\n",
      "2\n",
      "3\n"
     ]
    }
   ],
   "source": [
    "for i in range(5):\n",
    "    print(i)\n",
    "    if i == 3:\n",
    "        break\n",
    "else:\n",
    "    print('good job')"
   ]
  },
  {
   "cell_type": "code",
   "execution_count": 13,
   "metadata": {},
   "outputs": [
    {
     "name": "stdout",
     "output_type": "stream",
     "text": [
      "0\n",
      "1\n",
      "2\n",
      "3\n",
      "4\n",
      "good job\n"
     ]
    }
   ],
   "source": [
    "for i in range(5):\n",
    "    print(i)\n",
    "    if i == 10:\n",
    "        break\n",
    "else:\n",
    "    print('good job')"
   ]
  }
 ],
 "metadata": {
  "kernelspec": {
   "display_name": "Python 3",
   "language": "python",
   "name": "python3"
  },
  "language_info": {
   "codemirror_mode": {
    "name": "ipython",
    "version": 3
   },
   "file_extension": ".py",
   "mimetype": "text/x-python",
   "name": "python",
   "nbconvert_exporter": "python",
   "pygments_lexer": "ipython3",
   "version": "3.10.11"
  },
  "orig_nbformat": 4,
  "vscode": {
   "interpreter": {
    "hash": "57bbd670988dd459dad434548400a6dfe39b7b8557ef81bee418f958a280db6e"
   }
  }
 },
 "nbformat": 4,
 "nbformat_minor": 2
}
