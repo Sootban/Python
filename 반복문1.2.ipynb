{
 "cells": [
  {
   "cell_type": "code",
   "execution_count": null,
   "metadata": {},
   "outputs": [],
   "source": [
    "#Tutorial 1.2\n",
    "'''\n",
    "for\n",
    "\n",
    "while문은 '조건'을 가지고 반복을 실행할지를 판단했다. for은 순서열을\n",
    "순회하며 순서열의 끝에 도달하면 반복을 멈추게 된다.\n",
    "for문은 객체를 처음부터 끝까지 추출하며 순회하기 때문에 일반적으로 가\n",
    "장 많이 사용되는 반복문이다.\n",
    "\n",
    "<code>\n",
    "for x in(1,2,3):\n",
    "    print(x)\n",
    "\n",
    "위의 코드를 실행하면 변수 x에는 튜플(1,2,3)의 요소가 순서대로 출력된다.\n",
    "위 예제에서 튜플의 길이는 3이므로 for문은 반복을 3번 수행한다.\n",
    "여기서 x는 앞에서 초기화 하지 않아도 작동한다. while이 비교할 변수를 먼\n",
    "저 선언 해주는 것에 비해 간편하고 직관적이기 때문에 자주 사용된다.\n",
    "'''"
   ]
  },
  {
   "cell_type": "code",
   "execution_count": 1,
   "metadata": {},
   "outputs": [
    {
     "name": "stdout",
     "output_type": "stream",
     "text": [
      "1\n",
      "2\n",
      "3\n"
     ]
    }
   ],
   "source": [
    "for x in(1,2,3):\n",
    "    print(x)"
   ]
  },
  {
   "cell_type": "code",
   "execution_count": null,
   "metadata": {},
   "outputs": [],
   "source": [
    "'''\n",
    "[for문의 구조]\n",
    "\n",
    "for (변수명) in (순회 가능한 객체):\n",
    "    수행할 문장1\n",
    "    수행할 문장2\n",
    "\n",
    "for문의 범위로 사용되는 것은 시퀀스 자료형 자료 또는 반복 가능한 자료형이어야 한다.\n",
    "\n",
    "[반복문 순서도 (Flowchart)]\n",
    "for 문\n",
    "    시작 -> 초기문 -> Sequence 종료여부 -True-> 수행할 문장1,2 -> 반복 후 작업 -> Sequence 종료여부(반복)\n",
    "                                       -False-> 종료\n",
    "'''"
   ]
  },
  {
   "cell_type": "code",
   "execution_count": null,
   "metadata": {},
   "outputs": [],
   "source": []
  }
 ],
 "metadata": {
  "kernelspec": {
   "display_name": "Python 3",
   "language": "python",
   "name": "python3"
  },
  "language_info": {
   "codemirror_mode": {
    "name": "ipython",
    "version": 3
   },
   "file_extension": ".py",
   "mimetype": "text/x-python",
   "name": "python",
   "nbconvert_exporter": "python",
   "pygments_lexer": "ipython3",
   "version": "3.10.10"
  },
  "orig_nbformat": 4
 },
 "nbformat": 4,
 "nbformat_minor": 2
}
