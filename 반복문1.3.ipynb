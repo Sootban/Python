{
 "cells": [
  {
   "cell_type": "code",
   "execution_count": null,
   "metadata": {},
   "outputs": [],
   "source": [
    "#Tutorial 1.2.2\n",
    "'''\n",
    "지능형 리스트의 for\n",
    "\n",
    "<code>\n",
    "#1\n",
    "x = [i for i in range(1, 10)]\n",
    "print(x)\n",
    "\n",
    "#2\n",
    "y = ['{} X {} = {}'.format(i, j, i*j) for i in range(2, 10,) for j in range(1, 10)]\n",
    "print(y)\n",
    "\n",
    "#3\n",
    "def sumthingFunction(i):\n",
    "    if i % 100 == 0:\n",
    "        return i\n",
    "    else:\n",
    "        return 0\n",
    "기존리스트 = [100, 200, 300, 101, 202, 303]\n",
    "새로운리스트 = [sumthingFunction(i) for i in 기존리스트]\n",
    "print(sum(새로운리스트))\n",
    "\n",
    "[표현식 for 항목 in 순회 가능한 객체]은 List Comprehension이라 한다.\n",
    "한국어로 번역될 때에는 지능형 리스트라고 한다. 한 리스트의 모든 원소 \n",
    "각각에 표현식을 적용한 후, 그 반환 값을 원소로 가지는 다른 리스트를 쉽\n",
    "게 만들 수 있다.\n",
    "\n",
    "지능형 리스트에서 중첩된 for문은 연속된 for문이 아닌 4칸의 들여쓰기가 \n",
    "된 for문으로 인식한다. 따라서 두번째 예제처럼 구구단 출력이 가능하다.\n",
    "\n",
    "세번째 예제는 주로 사용하는 지능형 리스트의 예제이다. 주로 기존의 리스\n",
    "트에서 어떤 연산을 하여 새로운 리스트를 만들 때 사용한다.\n",
    "'''"
   ]
  },
  {
   "cell_type": "code",
   "execution_count": 1,
   "metadata": {},
   "outputs": [
    {
     "name": "stdout",
     "output_type": "stream",
     "text": [
      "[1, 2, 3, 4, 5, 6, 7, 8, 9]\n"
     ]
    }
   ],
   "source": [
    "#1\n",
    "x = [i for i in range(1, 10)]\n",
    "print(x)"
   ]
  },
  {
   "cell_type": "code",
   "execution_count": 2,
   "metadata": {},
   "outputs": [
    {
     "name": "stdout",
     "output_type": "stream",
     "text": [
      "['2 X 1 = 2', '2 X 2 = 4', '2 X 3 = 6', '2 X 4 = 8', '2 X 5 = 10', '2 X 6 = 12', '2 X 7 = 14', '2 X 8 = 16', '2 X 9 = 18', '3 X 1 = 3', '3 X 2 = 6', '3 X 3 = 9', '3 X 4 = 12', '3 X 5 = 15', '3 X 6 = 18', '3 X 7 = 21', '3 X 8 = 24', '3 X 9 = 27', '4 X 1 = 4', '4 X 2 = 8', '4 X 3 = 12', '4 X 4 = 16', '4 X 5 = 20', '4 X 6 = 24', '4 X 7 = 28', '4 X 8 = 32', '4 X 9 = 36', '5 X 1 = 5', '5 X 2 = 10', '5 X 3 = 15', '5 X 4 = 20', '5 X 5 = 25', '5 X 6 = 30', '5 X 7 = 35', '5 X 8 = 40', '5 X 9 = 45', '6 X 1 = 6', '6 X 2 = 12', '6 X 3 = 18', '6 X 4 = 24', '6 X 5 = 30', '6 X 6 = 36', '6 X 7 = 42', '6 X 8 = 48', '6 X 9 = 54', '7 X 1 = 7', '7 X 2 = 14', '7 X 3 = 21', '7 X 4 = 28', '7 X 5 = 35', '7 X 6 = 42', '7 X 7 = 49', '7 X 8 = 56', '7 X 9 = 63', '8 X 1 = 8', '8 X 2 = 16', '8 X 3 = 24', '8 X 4 = 32', '8 X 5 = 40', '8 X 6 = 48', '8 X 7 = 56', '8 X 8 = 64', '8 X 9 = 72', '9 X 1 = 9', '9 X 2 = 18', '9 X 3 = 27', '9 X 4 = 36', '9 X 5 = 45', '9 X 6 = 54', '9 X 7 = 63', '9 X 8 = 72', '9 X 9 = 81']\n"
     ]
    }
   ],
   "source": [
    "#2\n",
    "y = ['{} X {} = {}'.format(i, j, i*j) for i in range(2, 10,) for j in range(1, 10)]\n",
    "print(y)\n",
    "\n",
    "#구구단 리스트 출력"
   ]
  },
  {
   "cell_type": "code",
   "execution_count": 3,
   "metadata": {},
   "outputs": [
    {
     "name": "stdout",
     "output_type": "stream",
     "text": [
      "600\n"
     ]
    }
   ],
   "source": [
    "#3\n",
    "def sumthingFunction(i):\n",
    "    if i % 100 == 0:\n",
    "        return i\n",
    "    else:\n",
    "        return 0\n",
    "기존리스트 = [100, 200, 300, 101, 202, 303]\n",
    "새로운리스트 = [sumthingFunction(i) for i in 기존리스트]\n",
    "print(sum(새로운리스트))"
   ]
  }
 ],
 "metadata": {
  "kernelspec": {
   "display_name": "Python 3",
   "language": "python",
   "name": "python3"
  },
  "language_info": {
   "codemirror_mode": {
    "name": "ipython",
    "version": 3
   },
   "file_extension": ".py",
   "mimetype": "text/x-python",
   "name": "python",
   "nbconvert_exporter": "python",
   "pygments_lexer": "ipython3",
   "version": "3.10.11"
  },
  "orig_nbformat": 4
 },
 "nbformat": 4,
 "nbformat_minor": 2
}
