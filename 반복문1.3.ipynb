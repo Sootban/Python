{
 "cells": [
  {
   "cell_type": "code",
   "execution_count": null,
   "metadata": {},
   "outputs": [],
   "source": [
    "#Tutorial 1.2.2\n",
    "'''\n",
    "지능형 리스트의 for\n",
    "\n",
    "<code>\n",
    "#1\n",
    "x = [i for i in range(1, 10)]\n",
    "print(x)\n",
    "\n",
    "#2\n",
    "y = ['{} X {} = {}'.format(i, j, i*j) for i in range(2, 10,) for j in range(1, 10)]\n",
    "print(y)\n",
    "\n",
    "#3\n",
    "def sumthingFunction(i):\n",
    "    if i % 100 == 0:\n",
    "        return i\n",
    "    else:\n",
    "        return 0\n",
    "기존리스트 = [100, 200, 300, 101, 202, 303]\n",
    "새로운리스트 = [sumthingFunction(i) for i in 기존리스트]\n",
    "print(sum(새로운리스트))\n",
    "\n",
    "[표현식 for 항목 in 순회 가능한 객체]은 List Comprehension이라 한다.\n",
    "한국어로 번역될 때에는 지능형 리스트라고 한다. 한 리스트의 모든 원소 \n",
    "각각에 표현식을 적용한 후, 그 반환 값을 원소로 가지는 다른 리스트를 쉽\n",
    "게 만들 수 있다.\n",
    "\n",
    "지능형 리스트에서 중첩된 for문은 연속된 for문이 아닌 4칸의 들여쓰기가 \n",
    "된 for문으로 인식한다. 따라서 두번째 예제처럼 구구단 출력이 가능하다.\n",
    "\n",
    "세번째 예제는 주로 사용하는 지능형 리스트의 예제이다. 주로 기존의 리스\n",
    "트에서 어떤 연산을 하여 새로운 리스트를 만들 때 사용한다.\n",
    "'''"
   ]
  },
  {
   "cell_type": "code",
   "execution_count": 1,
   "metadata": {},
   "outputs": [
    {
     "name": "stdout",
     "output_type": "stream",
     "text": [
      "[1, 2, 3, 4, 5, 6, 7, 8, 9]\n"
     ]
    }
   ],
   "source": [
    "#1\n",
    "x = [i for i in range(1, 10)]\n",
    "print(x)"
   ]
  },
  {
   "cell_type": "code",
   "execution_count": 2,
   "metadata": {},
   "outputs": [
    {
     "name": "stdout",
     "output_type": "stream",
     "text": [
      "['2 X 1 = 2', '2 X 2 = 4', '2 X 3 = 6', '2 X 4 = 8', '2 X 5 = 10', '2 X 6 = 12', '2 X 7 = 14', '2 X 8 = 16', '2 X 9 = 18', '3 X 1 = 3', '3 X 2 = 6', '3 X 3 = 9', '3 X 4 = 12', '3 X 5 = 15', '3 X 6 = 18', '3 X 7 = 21', '3 X 8 = 24', '3 X 9 = 27', '4 X 1 = 4', '4 X 2 = 8', '4 X 3 = 12', '4 X 4 = 16', '4 X 5 = 20', '4 X 6 = 24', '4 X 7 = 28', '4 X 8 = 32', '4 X 9 = 36', '5 X 1 = 5', '5 X 2 = 10', '5 X 3 = 15', '5 X 4 = 20', '5 X 5 = 25', '5 X 6 = 30', '5 X 7 = 35', '5 X 8 = 40', '5 X 9 = 45', '6 X 1 = 6', '6 X 2 = 12', '6 X 3 = 18', '6 X 4 = 24', '6 X 5 = 30', '6 X 6 = 36', '6 X 7 = 42', '6 X 8 = 48', '6 X 9 = 54', '7 X 1 = 7', '7 X 2 = 14', '7 X 3 = 21', '7 X 4 = 28', '7 X 5 = 35', '7 X 6 = 42', '7 X 7 = 49', '7 X 8 = 56', '7 X 9 = 63', '8 X 1 = 8', '8 X 2 = 16', '8 X 3 = 24', '8 X 4 = 32', '8 X 5 = 40', '8 X 6 = 48', '8 X 7 = 56', '8 X 8 = 64', '8 X 9 = 72', '9 X 1 = 9', '9 X 2 = 18', '9 X 3 = 27', '9 X 4 = 36', '9 X 5 = 45', '9 X 6 = 54', '9 X 7 = 63', '9 X 8 = 72', '9 X 9 = 81']\n"
     ]
    }
   ],
   "source": [
    "#2\n",
    "y = ['{} X {} = {}'.format(i, j, i*j) for i in range(2, 10,) for j in range(1, 10)]\n",
    "print(y)\n",
    "\n",
    "#구구단 리스트 출력"
   ]
  },
  {
   "cell_type": "code",
   "execution_count": 3,
   "metadata": {},
   "outputs": [
    {
     "name": "stdout",
     "output_type": "stream",
     "text": [
      "600\n"
     ]
    }
   ],
   "source": [
    "#3\n",
    "def sumthingFunction(i):\n",
    "    if i % 100 == 0:\n",
    "        return i\n",
    "    else:\n",
    "        return 0\n",
    "기존리스트 = [100, 200, 300, 101, 202, 303]\n",
    "새로운리스트 = [sumthingFunction(i) for i in 기존리스트]\n",
    "print(sum(새로운리스트))"
   ]
  },
  {
   "cell_type": "code",
   "execution_count": null,
   "metadata": {},
   "outputs": [],
   "source": [
    "#Tutorial 1.2.3\n",
    "'''\n",
    "다중인자 리스트 순회\n",
    "\n",
    "<code>\n",
    "#다중 리스트 for문\n",
    "math = [\n",
    "    ('호준', 100),\n",
    "    ('지훈', 20),\n",
    "    ('정민', 70),\n",
    "    ('민혁', 40),\n",
    "    ('준석', 30)\n",
    "]\n",
    "\n",
    "#하나만 리스트여도 쌍이면 상관없이 잘 돌아감\n",
    "for i,j in math:\n",
    "    print(i,j)\n",
    "\n",
    "science = [\n",
    "    ('호준', 100, 'A'),\n",
    "    ('지훈', 20, 'F'),\n",
    "    ('정민', 70, 'C'),\n",
    "    ('민혁', 40, 'D'),\n",
    "    ('준석', 30, 'D')\n",
    "]\n",
    "\n",
    "for i,j,k in science:\n",
    "    print(i,j,k)\n",
    "\n",
    "math리스트의 튜플의 키는 i에 들어가고, 값은 j에 들어간다. science 리스트의\n",
    "튜플도 각 각 변수 i,j,k에 할당된다.\n",
    "\n",
    "패킹은 하나의 변수에 여러 개의 데이터를 넣는 것이다. 언패킹은 패킹된 변수에서 \n",
    "값을 꺼내 오는 것을 말한다. math에 ('호준',100) 담는 것을 패킹이라고 한다. \n",
    "또 한, math라는 패킹된 변수에서 여러 개의 값을 꺼내와, i,j에 할당하므로 이것은 \n",
    "언패킹한다고 할 수 있다. science도 마찬가지이다.\n",
    "\n",
    "여기서 아래와 같이 math나 science를 하나의 인자로 받아 순회를 하면 튜플 그대로 \n",
    "출력이 된다.\n",
    "\n",
    "for i in math:\n",
    "    print(i)\n",
    "\n",
    "for i in science:\n",
    "    print(i)\n",
    "'''"
   ]
  },
  {
   "cell_type": "code",
   "execution_count": 3,
   "metadata": {},
   "outputs": [
    {
     "name": "stdout",
     "output_type": "stream",
     "text": [
      "호준 100\n",
      "지훈 20\n",
      "정민 70\n",
      "민혁 40\n",
      "준석 30\n",
      "호준 100 A\n",
      "지훈 20 F\n",
      "정민 70 C\n",
      "민혁 40 D\n",
      "준석 30 D\n"
     ]
    }
   ],
   "source": [
    "#다중 리스트 for문\n",
    "math = [\n",
    "    ('호준', 100),\n",
    "    ('지훈', 20),\n",
    "    ('정민', 70),\n",
    "    ('민혁', 40),\n",
    "    ('준석', 30)\n",
    "]\n",
    "\n",
    "#하나만 리스트여도 쌍이면 상관없이 잘 돌아감\n",
    "for i,j in math:\n",
    "    print(i,j)\n",
    "\n",
    "science = [\n",
    "    ('호준', 100, 'A'),\n",
    "    ('지훈', 20, 'F'),\n",
    "    ('정민', 70, 'C'),\n",
    "    ('민혁', 40, 'D'),\n",
    "    ('준석', 30, 'D')\n",
    "]\n",
    "\n",
    "for i,j,k in science:\n",
    "    print(i,j,k)"
   ]
  },
  {
   "cell_type": "code",
   "execution_count": 4,
   "metadata": {},
   "outputs": [
    {
     "name": "stdout",
     "output_type": "stream",
     "text": [
      "('호준', 100)\n",
      "('지훈', 20)\n",
      "('정민', 70)\n",
      "('민혁', 40)\n",
      "('준석', 30)\n",
      "('호준', 100, 'A')\n",
      "('지훈', 20, 'F')\n",
      "('정민', 70, 'C')\n",
      "('민혁', 40, 'D')\n",
      "('준석', 30, 'D')\n"
     ]
    }
   ],
   "source": [
    "for i in math:\n",
    "    print(i)\n",
    "\n",
    "for i in science:\n",
    "    print(i)"
   ]
  },
  {
   "cell_type": "code",
   "execution_count": null,
   "metadata": {},
   "outputs": [],
   "source": [
    "#Tutorial 1.2.4\n",
    "'''\n",
    "enumerate\n",
    "\n",
    "<code>\n",
    "for i,j in enumerate([x*100 for x in range(5)]):\n",
    "    print(i,j)\n",
    "\n",
    "for i,j in enumerate([x*100 for x in range(5)], 1):\n",
    "    print(i,j)\n",
    "\n",
    "for i,j in enumerate(range(100, 201, 10), 100):\n",
    "    print(i,j)\n",
    "\n",
    "enumerate는 순서가 있는 시퀀스 자료형을 입력받아 인덱스 값을 \n",
    "포함해 리턴한다. 쉽게 말해 리스트, 튜플, 문자열에 인덱스 번호를 \n",
    "함께 출력한다고 생각하면 된다.\n",
    "\n",
    "enumerate 함수는 sequence, start 매개변수를 갖는다. Start의 \n",
    "기본값은 0으로 설정이 되어있기 때문에, start 값을 지정해주지 않\n",
    "으면 index는 0부터 시작하게 된다. start 값을 지정해주면 index는 \n",
    "지정된 start 값에서 시작하여 1씩 증가하게 된다.\n",
    "\n",
    "첫 번째 for문을 보면 x의 값은 0,1,2,3,4가 된다. x*100을 했으므로 \n",
    "j의 값은 0,100,200,300,400이 되고, enumerate의 start 매개변수에는 \n",
    "값을 지정해주지 않았으므로 index는 0부터 시작된다.\n",
    "\n",
    "for i,j in enumerate([x*100 for x in range(5)]):\n",
    "    print(i,j)\n",
    "\n",
    "두 번째 for문을 보면 enumertate의 start 매개변수에 값을 1로 지정해 \n",
    "주었으므로 순서는 1부터 시작될 것이다.\n",
    "\n",
    "for i,j in enumerate([x*100 for x in range(5)], 1):\n",
    "    print(i,j)\n",
    "\n",
    "세 번째 for문을 보면 x의 값은 100,110,120, ...,200이 될 것이다. \n",
    "그리고 시작 값은 100부터 시작이 될 것이다.\n",
    "\n",
    "for i,j in enumerate(range(100, 201, 10), 100):\n",
    "    print(i,j)\n",
    "'''"
   ]
  },
  {
   "cell_type": "code",
   "execution_count": 5,
   "metadata": {},
   "outputs": [
    {
     "name": "stdout",
     "output_type": "stream",
     "text": [
      "0 0\n",
      "1 100\n",
      "2 200\n",
      "3 300\n",
      "4 400\n",
      "1 0\n",
      "2 100\n",
      "3 200\n",
      "4 300\n",
      "5 400\n",
      "100 100\n",
      "101 110\n",
      "102 120\n",
      "103 130\n",
      "104 140\n",
      "105 150\n",
      "106 160\n",
      "107 170\n",
      "108 180\n",
      "109 190\n",
      "110 200\n"
     ]
    }
   ],
   "source": [
    "for i,j in enumerate([x*100 for x in range(5)]):\n",
    "    print(i,j)\n",
    "\n",
    "for i,j in enumerate([x*100 for x in range(5)], 1):\n",
    "    print(i,j)\n",
    "\n",
    "for i,j in enumerate(range(100, 201, 10), 100):\n",
    "    print(i,j)"
   ]
  }
 ],
 "metadata": {
  "kernelspec": {
   "display_name": "Python 3",
   "language": "python",
   "name": "python3"
  },
  "language_info": {
   "codemirror_mode": {
    "name": "ipython",
    "version": 3
   },
   "file_extension": ".py",
   "mimetype": "text/x-python",
   "name": "python",
   "nbconvert_exporter": "python",
   "pygments_lexer": "ipython3",
   "version": "3.10.11"
  },
  "orig_nbformat": 4
 },
 "nbformat": 4,
 "nbformat_minor": 2
}
