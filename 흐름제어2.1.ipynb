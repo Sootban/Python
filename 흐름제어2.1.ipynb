{
 "cells": [
  {
   "cell_type": "code",
   "execution_count": null,
   "metadata": {},
   "outputs": [],
   "source": [
    "#Tutorial 2.1\n",
    "'''\n",
    "if\n",
    "\n",
    "<code>[1]\n",
    "x = 2\n",
    "if x > 0 and x < 5:\n",
    "    print('True')\n",
    "\n",
    "<code>[2]\n",
    "if True:\n",
    "    print('True')\n",
    "\n",
    "if문은 조건을 판단하여 조건이 참이라면 해당 조건에 맞는 것을 실행하는 것이다.\n",
    "if문의 구조는 아래와 같다.\n",
    "\n",
    "if 조건문:      #조건문을 확인해서 만약 '참'이면 if문 다음에 문장들을 수행한다.\n",
    "    수행할 문장1\n",
    "    수행할 문장2\n",
    "\n",
    "위의 첫번째 예제 코드는 x 변수에 할당된 2라는 값이 0보다 크고, 5보다 작기 때문\n",
    "에 True가 되어 안에 문장이 실행된다. 두번째 예제 코드처럼 직접 bool문을 넣을 수\n",
    "도 있다.\n",
    "\n",
    "참고로 and는 'x > 0'와 'x < 5'를 둘 다 만족해야 True가 된다. or은 하나라도 만족\n",
    "하면 true를 반환한다.\n",
    "'''"
   ]
  },
  {
   "cell_type": "code",
   "execution_count": 1,
   "metadata": {},
   "outputs": [
    {
     "name": "stdout",
     "output_type": "stream",
     "text": [
      "True\n"
     ]
    }
   ],
   "source": [
    "x = 2\n",
    "if x > 0 and x < 5:\n",
    "    print('True')"
   ]
  },
  {
   "cell_type": "code",
   "execution_count": 2,
   "metadata": {},
   "outputs": [
    {
     "name": "stdout",
     "output_type": "stream",
     "text": [
      "True\n"
     ]
    }
   ],
   "source": [
    "if True:\n",
    "    print('True')"
   ]
  },
  {
   "cell_type": "code",
   "execution_count": null,
   "metadata": {},
   "outputs": [],
   "source": [
    "#Tutorial 2.2\n",
    "'''\n",
    "if, else\n",
    "\n",
    "<code>\n",
    "x = int(input('비교할 수를 입력하세요:'))\n",
    "y = int(input('비교할 수를 입력하세요:'))\n",
    "if x > y:\n",
    "    print('첫번째 입력한 값이 더 큽니다.')\n",
    "else:\n",
    "    print('두번째 입력한 값이 더 크거나 같습니다.')\n",
    "\n",
    "if 조건문:      #조건문을 확인해서 만약 '참'이면 if문 다음에 문장들을 수행하고\n",
    "    수행할 문장1\n",
    "    수행할 문장2\n",
    "\n",
    "else:           #if문의 조건이 거짓이면 else문이 실행된다.\n",
    "    수행할 문장3\n",
    "    수행할 문장4\n",
    "\n",
    "조건문을 판단하여 참이면 if문 바로 다음 문장(실행할 문장1, 2)을 실행하고, 조건문이 \n",
    "거짓이라면 else문 다음 문장(실행할 문장3, 4)를 실행하게 한다.\n",
    "\n",
    "위의 예제 코드를 살펴보면 input을 이용하여 사용자로부터 값을 입력받는다. 그 값은 문\n",
    "자열(str)로 처리가 되기 때문에 int를 이용하여 정수로 형변환을 해주어야 한다.\n",
    "\n",
    "만약 x > y 조건문이 참이라면 \"첫번째 입력한 값이 더 큽니다.\"를 출력해주고 거짓일 경\n",
    "우 \"두번째 입력한 값이 더 크거나 같습니다.\"를 출력한다.\n",
    "\n",
    "여기서 두번째 입력한 값이 더 큰 경우와 같은 경우를 구별하려면 어떻게 해야할까? 이럴\n",
    "때 다음 장에서 배울 elif를 사용하게 된다.\n",
    "'''"
   ]
  },
  {
   "cell_type": "code",
   "execution_count": 3,
   "metadata": {},
   "outputs": [
    {
     "name": "stdout",
     "output_type": "stream",
     "text": [
      "두번째 입력한 값이 더 크거나 같습니다.\n"
     ]
    }
   ],
   "source": [
    "x = int(input('비교할 수를 입력하세요:'))\n",
    "y = int(input('비교할 수를 입력하세요:'))\n",
    "if x > y:\n",
    "    print('첫번째 입력한 값이 더 큽니다.')\n",
    "else:\n",
    "    print('두번째 입력한 값이 더 크거나 같습니다.')"
   ]
  },
  {
   "cell_type": "code",
   "execution_count": null,
   "metadata": {},
   "outputs": [],
   "source": [
    "#Tutorial 2.3\n",
    "'''\n",
    "if, elif, else\n",
    "\n",
    "<code>\n",
    "x = int(input('비교할 수를 입력하세요:'))\n",
    "y = int(input('비교할 수를 입력하세요:'))\n",
    "if x > y:\n",
    "    print('첫번째 입력한 값이 더 큽니다.')\n",
    "elif x < y:\n",
    "    print('두번째 입력한 값이 더 큽니다.')\n",
    "else:\n",
    "    print('두 값이 같습니다.')\n",
    "\n",
    "if, elif, else문의 기본 구조\n",
    "\n",
    "if 조건문:          #조건문을 확인해서 만약 '참'이면 if문 다음에 문장들을 수행하고\n",
    "    수행할 문장1\n",
    "    수행할 문장2\n",
    "\n",
    "elif 조건문:        #만약에 if문이 '참'이 아니라면 elif문의 조건문을 확인하고\n",
    "    수행할 문장3    #elif문의 조건문이 참이라면 수행한다.\n",
    "    수행할 문장4\n",
    "\n",
    "else:               #if문과 elif문의 조건문이 거짓이면 else가 실행된다.\n",
    "    수행할 문장5\n",
    "    수행할 문장6\n",
    "\n",
    "만약 x > y 조건문이 참이라면 \"첫번째 입력한 값이 더 큽니다.\"를 출력해주고 거짓일 경우 \n",
    "\"두번째 입력한 값이 더 큽니다.\"를 출력한다.\n",
    "\n",
    "여기서 첫번째 조건문을 만족하지 않기 때문에 elif로 넘어오게 된다. 여기서 두번째 조건인 \n",
    "x < y 조건문도 만족하지 않기 때문에 마지막 else문으로 넘어가 두 값이 같다는 문장을 출\n",
    "력하게 된다.\n",
    "\n",
    "[?]elif문은 한번만 쓸 수 있나요?\n",
    "-> 아니다. elif문은 if문과 else문 사이에 여러 개를 넣어 사용가능하다.\n",
    "if문과 else문 사이에 elif문을 넣어 다양한 조건 판단을 할 수 있다.\n",
    "'''"
   ]
  },
  {
   "cell_type": "code",
   "execution_count": 4,
   "metadata": {},
   "outputs": [
    {
     "name": "stdout",
     "output_type": "stream",
     "text": [
      "두 값이 같습니다.\n"
     ]
    }
   ],
   "source": [
    "x = int(input('비교할 수를 입력하세요:'))\n",
    "y = int(input('비교할 수를 입력하세요:'))\n",
    "if x > y:\n",
    "    print('첫번째 입력한 값이 더 큽니다.')\n",
    "elif x < y:\n",
    "    print('두번째 입력한 값이 더 큽니다.')\n",
    "else:\n",
    "    print('두 값이 같습니다.')"
   ]
  },
  {
   "cell_type": "code",
   "execution_count": null,
   "metadata": {},
   "outputs": [],
   "source": [
    "'''\n",
    "조건문 순서도(Flowchart)\n",
    "\n",
    "if문\n",
    "시작 -> if 조건식 -True-> if 실행문 -> 종료\n",
    "                 -False-> 종료\n",
    "\n",
    "if, else문\n",
    "시작 -> if 조건식 -True-> if 실행문 -> 종료\n",
    "                 -False-> else 실행문 -> 종료\n",
    "\n",
    "if, elif, else문\n",
    "시작 -> if 조건식 -True-> if 실행문 -> 종료\n",
    "                 -False-> elif 조건식 -True-> elif 실행문 -> 종료\n",
    "                                     -False-> else 실행문 -> 종료\n",
    "'''"
   ]
  }
 ],
 "metadata": {
  "kernelspec": {
   "display_name": "Python 3",
   "language": "python",
   "name": "python3"
  },
  "language_info": {
   "codemirror_mode": {
    "name": "ipython",
    "version": 3
   },
   "file_extension": ".py",
   "mimetype": "text/x-python",
   "name": "python",
   "nbconvert_exporter": "python",
   "pygments_lexer": "ipython3",
   "version": "3.10.9"
  },
  "orig_nbformat": 4
 },
 "nbformat": 4,
 "nbformat_minor": 2
}
